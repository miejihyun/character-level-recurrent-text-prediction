{
  "cells": [
    {
      "cell_type": "markdown",
      "metadata": {
        "id": "1e_jsiIyvPON"
      },
      "source": [
        "# **IMPORTS & UTILS**"
      ]
    },
    {
      "cell_type": "code",
      "source": [
        "from google.colab import drive \n",
        "import os\n",
        "drive.mount('/content/drive')\n",
        "path = \"/content/drive/MyDrive/NLP_PROJECT/\"\n",
        "\n",
        "if not os.path.exists(path):\n",
        "    os.mkdir(path)\n",
        "\n",
        "if not os.path.exists(path+\"/cache/\"):\n",
        "    os.mkdir(path+\"/cache/\")\n",
        "\n",
        "os.chdir(path)"
      ],
      "metadata": {
        "colab": {
          "base_uri": "https://localhost:8080/"
        },
        "id": "677x_gECuDGR",
        "outputId": "0cdbbfa2-5887-4889-ce3f-d4e7d1e54a67"
      },
      "execution_count": null,
      "outputs": [
        {
          "output_type": "stream",
          "name": "stdout",
          "text": [
            "Drive already mounted at /content/drive; to attempt to forcibly remount, call drive.mount(\"/content/drive\", force_remount=True).\n"
          ]
        }
      ]
    },
    {
      "cell_type": "code",
      "execution_count": null,
      "metadata": {
        "id": "7YcPJfCVvAUn"
      },
      "outputs": [],
      "source": [
        "import nltk, math, torch\n",
        "\n",
        "import matplotlib.pyplot as plt\n",
        "from collections import namedtuple\n",
        "from nltk.corpus import brown\n",
        "import numpy as np\n",
        "\n",
        "from torch.autograd import Variable\n",
        "import torch.nn.functional as F\n",
        "import torch.optim as optim\n",
        "import torch.nn as nn\n",
        "import numpy as np\n",
        "\n",
        "from utils import *"
      ]
    },
    {
      "cell_type": "markdown",
      "metadata": {
        "id": "AShS4PYrvTII"
      },
      "source": [
        "## **Corpus Initializations**"
      ]
    },
    {
      "cell_type": "code",
      "execution_count": null,
      "metadata": {
        "id": "FBEMxhwVvLzv"
      },
      "outputs": [],
      "source": [
        "def init_brown():\n",
        "    nltk.download('brown')\n",
        "    words = brown.words(categories=(brown.categories()))\n",
        "    N     = len(words)\n",
        "\n",
        "    words_test  = words[0:math.ceil(N*0.7)]\n",
        "    words_train = words[math.ceil(N*0.7):math.ceil(N*0.9)]\n",
        "    words_val   = words[math.ceil(N*0.9):]\n",
        "\n",
        "    f=open('test.txt','w')\n",
        "    for w in words_test:\n",
        "        f.write(w+\" \")\n",
        "    f.close()\n",
        "\n",
        "    f=open('train.txt','w')\n",
        "    for w in words_train:\n",
        "        f.write(w+\" \")\n",
        "    f.close()\n",
        "\n",
        "    f=open('valid.txt','w')\n",
        "    for w in words_val:\n",
        "        f.write(w+\" \")\n",
        "    f.close()"
      ]
    },
    {
      "cell_type": "markdown",
      "source": [
        "## Data preprocess"
      ],
      "metadata": {
        "id": "AHMTC0iKzneX"
      }
    },
    {
      "cell_type": "code",
      "source": [
        "num_char = 0\n",
        "def preprocess(): \n",
        "    global num_char\n",
        "    word_dict, char_dict = create_word_char_dict(\"valid.txt\", \"train.txt\", \"test.txt\")\n",
        "    num_words = len(word_dict)\n",
        "    num_char  = len(char_dict)\n",
        "    char_dict[\"BOW\"] = num_char+1\n",
        "    char_dict[\"EOW\"] = num_char+2\n",
        "    char_dict[\"PAD\"] = 0\n",
        "    \n",
        "    #  dict of (int, string)\n",
        "    reverse_word_dict = {value:key for key, value in word_dict.items()}\n",
        "    max_word_len = max([len(word) for word in word_dict])\n",
        "\n",
        "    objects = {\n",
        "        \"word_dict\": word_dict,\n",
        "        \"char_dict\": char_dict,\n",
        "        \"reverse_word_dict\": reverse_word_dict,\n",
        "        \"max_word_len\": max_word_len\n",
        "    }\n",
        "    \n",
        "    torch.save(objects, \"cache/prep_\"+corpus+\".pt\")\n",
        "    print(\"Preprocess done.\")"
      ],
      "metadata": {
        "id": "a1oBIR1ZzpPO"
      },
      "execution_count": null,
      "outputs": []
    },
    {
      "cell_type": "markdown",
      "source": [
        "## Dataset prep"
      ],
      "metadata": {
        "id": "uxp_Gsc6zlBO"
      }
    },
    {
      "cell_type": "code",
      "source": [
        "def dataset_prep():\n",
        "    train_text = read_data(\"train.txt\")\n",
        "    valid_text = read_data(\"valid.txt\")\n",
        "    test_text  = read_data(\"test.txt\")\n",
        "\n",
        "    train_set = np.array(text2vec(train_text, char_dict, max_word_len))\n",
        "    valid_set = np.array(text2vec(valid_text, char_dict, max_word_len))\n",
        "    test_set  = np.array(text2vec(test_text,  char_dict, max_word_len))\n",
        "\n",
        "    # Labels are next-word index in word_dict with the same length as inputs\n",
        "    train_label = np.array([word_dict[w] for w in train_text[1:]] + [word_dict[train_text[-1]]])\n",
        "    valid_label = np.array([word_dict[w] for w in valid_text[1:]] + [word_dict[valid_text[-1]]])\n",
        "    test_label  = np.array([word_dict[w] for w in test_text[1:]] + [word_dict[test_text[-1]]])\n",
        "\n",
        "    category = {\"tdata\":train_set, \"vdata\":valid_set, \"test\": test_set, \n",
        "                \"trlabel\":train_label, \"vlabel\":valid_label, \"tlabel\":test_label}\n",
        "    torch.save(category, \"cache/data_sets_\"+corpus+\".pt\") "
      ],
      "metadata": {
        "id": "SjHkdrZCzkp8"
      },
      "execution_count": null,
      "outputs": []
    },
    {
      "cell_type": "markdown",
      "source": [
        "## Training loop"
      ],
      "metadata": {
        "id": "6aUeQz-64s7j"
      }
    },
    {
      "cell_type": "markdown",
      "source": [
        "### LSTM"
      ],
      "metadata": {
        "id": "zCO3Rn6pswTS"
      }
    },
    {
      "cell_type": "code",
      "source": [
        "def train_LSTM(net, data, opt, model_name):\n",
        "    global results\n",
        "    torch.manual_seed(1024)\n",
        "\n",
        "    train_input = torch.from_numpy(data.train_input)\n",
        "    train_label = torch.from_numpy(data.train_label)\n",
        "    valid_input = torch.from_numpy(data.valid_input)\n",
        "    valid_label = torch.from_numpy(data.valid_label)\n",
        "\n",
        "    L = opt.seq_len\n",
        "\n",
        "    # [num_seq, seq_len, max_word_len+2]\n",
        "    num_seq = train_input.size()[0] //  L\n",
        "    train_input = train_input[:num_seq* L, :]\n",
        "    train_input = train_input.view(-1,  L, opt.max_word_len+2)\n",
        "\n",
        "    num_seq = valid_input.size()[0] //  L\n",
        "    valid_input = valid_input[:num_seq* L, :]\n",
        "    valid_input = valid_input.view(-1,  L, opt.max_word_len+2)\n",
        "\n",
        "    num_epoch = opt.epochs\n",
        "    num_iter_train = train_input.size()[0] // opt.batch_size\n",
        "    \n",
        "    learning_rate = opt.init_lr\n",
        "    old_PPL = 100000\n",
        "    best_PPL = 100000\n",
        "\n",
        "    n_stuck = 0\n",
        "\n",
        "    # Log-SoftMax\n",
        "    criterion = nn.CrossEntropyLoss()\n",
        "    \n",
        "    # word_emb_dim == hidden_size / num of hidden units \n",
        "    hidden = (to_var(torch.zeros(2,  opt.batch_size, opt.word_embed_dim)), \n",
        "              to_var(torch.zeros(2,  opt.batch_size, opt.word_embed_dim)))\n",
        "\n",
        "    for epoch in range(num_epoch):\n",
        "        ################  Validation  ####################\n",
        "        net.eval()\n",
        "        loss_batch = []\n",
        "        PPL_batch  = []\n",
        "        num_iter_valid = valid_input.size()[0] // opt.batch_size\n",
        "\n",
        "\n",
        "        # TRANSFORMER :\n",
        "        # VALID  : S+L sequences\n",
        "        # LABELS : S+L labels of next words -> use the (-L,1) labels\n",
        "        \n",
        "        valid_generator  = batch_generator(valid_input, opt.batch_size)\n",
        "        vlabel_generator = batch_generator(valid_label, opt.batch_size*L)\n",
        "\n",
        "        for t in range(num_iter_valid):\n",
        "            batch_input = valid_generator.__next__()  # (N,L,W)\n",
        "            batch_label = vlabel_generator.__next__() # (N*L)\n",
        "\n",
        "            ####################################################################\n",
        "\n",
        "            hidden = [state.detach() for state in hidden]\n",
        "            valid_output, hidden = net(to_var(batch_input), hidden)\n",
        "            ####################################################################\n",
        "\n",
        "            length = valid_output.size()[0]\n",
        "\n",
        "            # [num_sample-1, len(word_dict)] vs [num_sample-1]\n",
        "\n",
        "            valid_loss = criterion(valid_output, to_var(batch_label))\n",
        "\n",
        "            PPL = torch.exp(valid_loss.data)\n",
        "\n",
        "            loss_batch.append(float(valid_loss))\n",
        "            PPL_batch.append(float(PPL))\n",
        "\n",
        "        PPL = np.mean(PPL_batch)\n",
        "        print(\"[epoch {}] valid PPL={}\".format(epoch, PPL))\n",
        "        print(\"valid loss={}\".format(np.mean(loss_batch)))\n",
        "        print(\"PPL decrease={}\".format(float(old_PPL - PPL)))\n",
        "\n",
        "        # UPDATE RESULTS DICT\n",
        "        if results.get(model_name) == None:\n",
        "            results[model_name] = {\"validation\":{\"loss\":[],\"PPL\":[]},\"training\":{\"loss\":[],\"PPL\":[]}}\n",
        "        results[model_name][\"validation\"][\"loss\"].append(np.mean(loss_batch))\n",
        "        results[model_name][\"validation\"][\"PPL\"].append(PPL)\n",
        "\n",
        "        # Preserve the best model\n",
        "        if best_PPL > PPL:\n",
        "            best_PPL = PPL\n",
        "            torch.save(net.state_dict(), \"cache/\"+model_name+\".pt\")\n",
        "            torch.save(net, \"cache/\"+model_name+\"_net.pkl\")\n",
        "\n",
        "        # Adjust the learning rate\n",
        "        if float(old_PPL - PPL) <= 1.0 and n_stuck > 5:\n",
        "            learning_rate /= 10\n",
        "            print(\"halved lr:{}\".format(learning_rate))\n",
        "            n_stuck = 0\n",
        "        elif float(old_PPL - PPL) <= 1.0:\n",
        "            n_stuck += 1\n",
        "\n",
        "        old_PPL = PPL\n",
        "\n",
        "        ##################################################\n",
        "        #################### Training ####################\n",
        "        net.train()\n",
        "\n",
        "        optimizer  = optim.Adam(net.parameters(), \n",
        "                               lr = learning_rate)\n",
        "\n",
        "        # split the first dim\n",
        "        input_generator = batch_generator(train_input, opt.batch_size)\n",
        "        label_generator = batch_generator(train_label, opt.batch_size*L)\n",
        "\n",
        "        total_loss, total_PPL = 0, 0\n",
        "\n",
        "        for t in range(num_iter_train):\n",
        "\n",
        "            if t % 100 == 0:\n",
        "                print(f\"{t}/{num_iter_train}\")\n",
        "\n",
        "            batch_input = input_generator.__next__()\n",
        "            batch_label = label_generator.__next__()\n",
        "            ####################################################################\n",
        "\n",
        "            # detach hidden state of LSTM from last batch\n",
        "            hidden = [state.detach() for state in hidden]\n",
        "            \n",
        "            ####################################################################\n",
        "\n",
        "            output, hidden = net(to_var(batch_input), hidden)\n",
        "            # [num_word, vocab_size]\n",
        "            ####################################################################\n",
        "            loss = criterion(output, to_var(batch_label))\n",
        "\n",
        "            net.zero_grad()\n",
        "            loss.backward()\n",
        "            torch.nn.utils.clip_grad_norm(net.parameters(), 5, norm_type=2)\n",
        "            optimizer.step()\n",
        "\n",
        "            total_loss += loss.cpu().data\n",
        "            total_PPL  += np.exp(loss.cpu().data)\n",
        "          \n",
        "        total_loss /= num_iter_train \n",
        "        total_PPL  /= num_iter_train \n",
        "    \n",
        "        results[model_name][\"training\"][\"loss\"].append(total_loss)\n",
        "        results[model_name][\"training\"][\"PPL\"].append(total_PPL)\n",
        "\n",
        "        print(f\"Train loss : {total_loss}\")\n",
        "        print(f\"Train PPL : {total_PPL}\")\n",
        "\n",
        "    torch.save(net.state_dict(), \"cache/\"+model_name+\".pt\")\n",
        "    print(\"Training finished.\")"
      ],
      "metadata": {
        "id": "pViF2ID-4uty"
      },
      "execution_count": null,
      "outputs": []
    },
    {
      "cell_type": "markdown",
      "source": [
        "### Transformer"
      ],
      "metadata": {
        "id": "w8TXNce6v6zE"
      }
    },
    {
      "cell_type": "code",
      "source": [
        "def train_Transformer(net, data, opt, model_name):\n",
        "    global results\n",
        "    torch.manual_seed(1024)\n",
        "\n",
        "    train_input = torch.from_numpy(data.train_input)\n",
        "    train_label = torch.from_numpy(data.train_label)\n",
        "    valid_input = torch.from_numpy(data.valid_input)\n",
        "    valid_label = torch.from_numpy(data.valid_label)\n",
        "\n",
        "    L = opt.seq_len\n",
        "\n",
        "    # [num_seq, seq_len, max_word_len+2]\n",
        "    num_seq = train_input.size()[0] //  L\n",
        "    train_input = train_input[:num_seq* L, :]\n",
        "    train_input = train_input.view(-1,  L, opt.max_word_len+2)\n",
        "\n",
        "    num_seq = valid_input.size()[0] //  L\n",
        "    valid_input = valid_input[:num_seq* L, :]\n",
        "    valid_input = valid_input.view(-1,  L, opt.max_word_len+2)\n",
        "\n",
        "    num_epoch = opt.epochs\n",
        "    num_iter_train = train_input.size()[0] // opt.batch_size\n",
        "    \n",
        "    learning_rate = opt.init_lr\n",
        "    old_PPL = 100000\n",
        "    best_PPL = 100000\n",
        "\n",
        "    n_stuck = 0\n",
        "\n",
        "    # Log-SoftMax\n",
        "    criterion = nn.CrossEntropyLoss()\n",
        "    \n",
        "    X = torch.zeros((opt.batch_size,L,opt.max_word_len+2)).long().cuda()\n",
        "\n",
        "    for epoch in range(num_epoch):\n",
        "        ################  Validation  ####################\n",
        "        net.eval()\n",
        "        loss_batch = []\n",
        "        PPL_batch  = []\n",
        "        num_iter_valid = valid_input.size()[0] // opt.batch_size\n",
        "\n",
        "\n",
        "        # TRANSFORMER :\n",
        "        # VALID  : S+L sequences\n",
        "        # LABELS : S+L labels of next words -> use the (-L,1) labels\n",
        "        \n",
        "        valid_generator  = batch_generator(valid_input, opt.batch_size)\n",
        "        vlabel_generator = batch_generator(valid_label, opt.batch_size*L)\n",
        "\n",
        "        for t in range(num_iter_valid):\n",
        "            batch_input = valid_generator.__next__()  # (N,L,W)\n",
        "            batch_label = vlabel_generator.__next__() # (N*L)\n",
        "\n",
        "            ####################################################################\n",
        "            y_input  = batch_input[:,:,:].cuda()\n",
        "            batch_label = torch.reshape(batch_label,(opt.batch_size,L)).cuda()\n",
        "            y_pred      = batch_label[:,:].cuda().reshape(-1)\n",
        "            \n",
        "            ####################################################################\n",
        "            valid_output = net(X,y_input)\n",
        "\n",
        "            ####################################################################\n",
        "\n",
        "            ####\n",
        "            X = y_input\n",
        "            ####\n",
        "\n",
        "            length = valid_output.size()[0]\n",
        "\n",
        "            # [num_sample-1, len(word_dict)] vs [num_sample-1]\n",
        "            valid_loss = criterion(valid_output, to_var(y_pred))\n",
        "\n",
        "            PPL = torch.exp(valid_loss.data)\n",
        "\n",
        "            loss_batch.append(float(valid_loss))\n",
        "            PPL_batch.append(float(PPL))\n",
        "\n",
        "        PPL = np.mean(PPL_batch)\n",
        "        print(\"[epoch {}] valid PPL={}\".format(epoch, PPL))\n",
        "        print(\"valid loss={}\".format(np.mean(loss_batch)))\n",
        "        print(\"PPL decrease={}\".format(float(old_PPL - PPL)))\n",
        "\n",
        "        # UPDATE RESULTS DICT\n",
        "        if results.get(model_name) == None:\n",
        "            results[model_name] = {\"validation\":{\"loss\":[],\"PPL\":[]},\"training\":{\"loss\":[],\"PPL\":[]}}\n",
        "        results[model_name][\"validation\"][\"loss\"].append(np.mean(loss_batch))\n",
        "        results[model_name][\"validation\"][\"PPL\"].append(PPL)\n",
        "\n",
        "        # Preserve the best model\n",
        "        if best_PPL > PPL:\n",
        "            best_PPL = PPL\n",
        "            torch.save(net.state_dict(), \"cache/\"+model_name+\".pt\")\n",
        "            torch.save(net, \"cache/\"+model_name+\"_net.pkl\")\n",
        "\n",
        "        # Adjust the learning rate\n",
        "        if float(old_PPL - PPL) <= 1.0 and n_stuck > 5:\n",
        "            learning_rate /= 10\n",
        "            print(\"halved lr:{}\".format(learning_rate))\n",
        "            n_stuck = 0\n",
        "        elif float(old_PPL - PPL) <= 1.0:\n",
        "            n_stuck += 1\n",
        "\n",
        "        old_PPL = PPL\n",
        "\n",
        "        ##################################################\n",
        "        #################### Training ####################\n",
        "        net.train()\n",
        "\n",
        "        X = torch.zeros((opt.batch_size,L,opt.max_word_len+2)).long().cuda()\n",
        "\n",
        "        optimizer  = optim.Adam(net.parameters(), \n",
        "                               lr = learning_rate)\n",
        "\n",
        "        # split the first dim\n",
        "        input_generator = batch_generator(train_input, opt.batch_size)\n",
        "        label_generator = batch_generator(train_label, opt.batch_size*L)\n",
        "\n",
        "        total_loss, total_PPL = 0, 0\n",
        "\n",
        "        for t in range(num_iter_train):\n",
        "\n",
        "            if t % 100 == 0:\n",
        "                print(f\"{t}/{num_iter_train}\")\n",
        "\n",
        "            batch_input = input_generator.__next__()\n",
        "            batch_label = label_generator.__next__()\n",
        "\n",
        "            ####################################################################\n",
        "\n",
        "            y_input  = batch_input[:,:,:].cuda()\n",
        "            batch_label = torch.reshape(batch_label,(opt.batch_size,L)).cuda()\n",
        "            y_pred      = batch_label[:,:].cuda().reshape(-1)\n",
        "\n",
        "            ####################################################################\n",
        "            output = net(X,y_input)\n",
        "            # [num_word, vocab_size]\n",
        "            ####################################################################\n",
        "\n",
        "\n",
        "            loss = criterion(output, to_var(y_pred))\n",
        "  \n",
        "            net.zero_grad()\n",
        "            loss.backward()\n",
        "            torch.nn.utils.clip_grad_norm(net.parameters(), 5, norm_type=2)\n",
        "            optimizer.step()\n",
        "\n",
        "            ####\n",
        "            X = y_input\n",
        "            ####\n",
        "\n",
        "            total_loss += loss.cpu().data\n",
        "            total_PPL  += np.exp(loss.cpu().data)\n",
        "          \n",
        "        total_loss /= num_iter_train\n",
        "        total_PPL  /= num_iter_train\n",
        "    \n",
        "        results[model_name][\"training\"][\"loss\"].append(total_loss)\n",
        "        results[model_name][\"training\"][\"PPL\"].append(total_PPL)\n",
        "\n",
        "        print(f\"Train loss : {total_loss}\")\n",
        "        print(f\"Train PPL : {total_PPL}\")\n",
        "\n",
        "    torch.save(net.state_dict(), \"cache/\"+model_name+\".pt\")\n",
        "    print(\"Training finished.\")"
      ],
      "metadata": {
        "id": "a8KsFCMDszsN"
      },
      "execution_count": null,
      "outputs": []
    },
    {
      "cell_type": "markdown",
      "metadata": {
        "id": "qYoei0BALO-v"
      },
      "source": [
        "## Evaluation Functions"
      ]
    },
    {
      "cell_type": "markdown",
      "source": [
        "### Test LSTM"
      ],
      "metadata": {
        "id": "jSWpF8QtYhKR"
      }
    },
    {
      "cell_type": "code",
      "source": [
        "def test_LSTM(net, data, opt, model_name):\n",
        "    net.eval()\n",
        "\n",
        "    test_input = torch.from_numpy(data.test_input)\n",
        "    test_label = torch.from_numpy(data.test_label)\n",
        "\n",
        "    L = opt.seq_len\n",
        "    num_seq = test_input.size()[0] // opt.seq_len\n",
        "    test_input = test_input[:num_seq*opt.seq_len, :]\n",
        "    # [num_seq, seq_len, max_word_len+2]\n",
        "    test_input = test_input.view(-1, opt.seq_len, opt.max_word_len+2)\n",
        "\n",
        "    criterion = nn.CrossEntropyLoss()\n",
        "\n",
        "    loss_list = []\n",
        "    num_iter_test = test_input.size()[0] // opt.batch_size\n",
        "    test_generator = batch_generator(test_input, opt.batch_size)\n",
        "    label_generator = batch_generator(test_label, opt.batch_size*opt.seq_len)\n",
        "\n",
        "    hidden = (to_var(torch.zeros(2, opt.batch_size, opt.word_embed_dim)), \n",
        "              to_var(torch.zeros(2, opt.batch_size, opt.word_embed_dim)))\n",
        "    \n",
        "    add_loss = 0.0 \n",
        "    for t in range(num_iter_test):\n",
        "        batch_input = test_generator.__next__ ()\n",
        "        batch_label = label_generator.__next__()\n",
        "        \n",
        "        net.zero_grad()\n",
        "        hidden = [state.detach() for state in hidden]\n",
        "        \n",
        "        test_output, hidden = net(to_var(batch_input), hidden)\n",
        "\n",
        "        test_loss = criterion(test_output, to_var(batch_label)).data\n",
        "\n",
        "        loss_list.append(test_loss)\n",
        "        add_loss += test_loss\n",
        "\n",
        "    print(\"Test Loss={0:.4f}\".format(float(add_loss) / num_iter_test))\n",
        "    print(\"Test PPL={0:.4f}\".format(float(torch.exp(add_loss / num_iter_test))))"
      ],
      "metadata": {
        "id": "jD6GBU4_eaTv"
      },
      "execution_count": null,
      "outputs": []
    },
    {
      "cell_type": "markdown",
      "source": [
        "### Test Transformer"
      ],
      "metadata": {
        "id": "UhSXwAohYkBt"
      }
    },
    {
      "cell_type": "code",
      "source": [
        "def test_Transformer(net, data, opt, model_name):\n",
        "    net.eval()\n",
        " \n",
        "    test_input = torch.from_numpy(data.test_input)\n",
        "    test_label = torch.from_numpy(data.test_label)\n",
        "\n",
        "    L = opt.seq_len\n",
        "    num_seq = test_input.size()[0] // opt.seq_len\n",
        "    test_input = test_input[:num_seq*opt.seq_len, :]\n",
        "    # [num_seq, seq_len, max_word_len+2]\n",
        "    test_input = test_input.view(-1, opt.seq_len, opt.max_word_len+2)\n",
        "\n",
        "    criterion = nn.CrossEntropyLoss()\n",
        "\n",
        "    loss_list = []\n",
        "    num_iter_test = test_input.size()[0] // opt.batch_size\n",
        "    test_generator = batch_generator(test_input, opt.batch_size)\n",
        "    label_generator = batch_generator(test_label, opt.batch_size*opt.seq_len)\n",
        "    \n",
        "    X = torch.zeros((opt.batch_size,L,opt.max_word_len+2)).long().cuda()\n",
        "\n",
        "    add_loss = 0.0 \n",
        "    for t in range(num_iter_test):\n",
        "        batch_input = test_generator.__next__ ()\n",
        "        batch_label = label_generator.__next__()\n",
        "\n",
        "        ####################################################################\n",
        "\n",
        "        y_input  = batch_input[:,:,:].cuda()\n",
        "        batch_label = torch.reshape(batch_label,(opt.batch_size,L)).cuda()\n",
        "        y_pred      = batch_label[:,:].cuda().reshape(-1)\n",
        "        ####################################################################\n",
        "        \n",
        "        net.zero_grad()\n",
        "\n",
        "        test_output = net(X,y_input)\n",
        "\n",
        "        X = y_input\n",
        "\n",
        "        test_loss = criterion(test_output, to_var(y_pred)).data\n",
        "\n",
        "        loss_list.append(test_loss)\n",
        "        add_loss += test_loss\n",
        "\n",
        "    print(\"Test Loss={0:.4f}\".format(float(add_loss) / num_iter_test))\n",
        "    print(\"Test PPL={0:.4f}\".format(float(torch.exp(add_loss / num_iter_test))))\n"
      ],
      "metadata": {
        "id": "ptaKpkJ5Yd2Y"
      },
      "execution_count": null,
      "outputs": []
    },
    {
      "cell_type": "markdown",
      "metadata": {
        "id": "1F-d6x1IxKkW"
      },
      "source": [
        "# **MODELS**"
      ]
    },
    {
      "cell_type": "markdown",
      "source": [
        "## **LSTM model**"
      ],
      "metadata": {
        "id": "Fxbjsv64vCQv"
      }
    },
    {
      "cell_type": "code",
      "source": [
        "class Highway(nn.Module):\n",
        "    \"\"\"Highway network\"\"\"\n",
        "    def __init__(self, input_size):\n",
        "        super(Highway, self).__init__()\n",
        "        self.fc1 = nn.Linear(input_size, input_size, bias=True)\n",
        "        self.fc2 = nn.Linear(input_size, input_size, bias=True)\n",
        "\n",
        "    def forward(self, x):\n",
        "        t = F.sigmoid(self.fc1(x))\n",
        "        return torch.mul(t, F.relu(self.fc2(x))) + torch.mul(1-t, x)"
      ],
      "metadata": {
        "id": "syFejSRVbZ6E"
      },
      "execution_count": null,
      "outputs": []
    },
    {
      "cell_type": "code",
      "execution_count": null,
      "metadata": {
        "id": "VeaOLj7DxMO9"
      },
      "outputs": [],
      "source": [
        "class charLM(nn.Module):\n",
        "    \"\"\"CNN + highway network + LSTM\n",
        "    # Input: \n",
        "        4D tensor with shape [batch_size, in_channel, height, width]\n",
        "    # Output:\n",
        "        2D Tensor with shape [batch_size, vocab_size]\n",
        "    # Arguments:\n",
        "        char_emb_dim: the size of each character's embedding\n",
        "        word_emb_dim: the size of each word's embedding\n",
        "        vocab_size: num of unique words\n",
        "        num_char: num of characters\n",
        "        use_gpu: True or False\n",
        "    \"\"\"\n",
        "    def __init__(self, char_emb_dim, word_emb_dim,  \n",
        "                vocab_size, num_char, use_gpu):\n",
        "        super(charLM, self).__init__()\n",
        "        self.char_emb_dim = char_emb_dim\n",
        "        self.word_emb_dim = word_emb_dim\n",
        "        self.vocab_size = vocab_size\n",
        "\n",
        "        # char embedding layer\n",
        "        self.char_embed = nn.Embedding(num_char, char_emb_dim)\n",
        "\n",
        "        # convolutions of filters with different sizes\n",
        "        self.convolutions = []\n",
        "\n",
        "        # list of tuples: (the number of filter, width)\n",
        "        self.filter_num_width = [(25, 1), (50, 2), (75, 3), (100, 4), (125, 5), (150, 6)]\n",
        "        \n",
        "        for out_channel, filter_width in self.filter_num_width:\n",
        "            self.convolutions.append(\n",
        "                nn.Conv2d(\n",
        "                    1,           # in_channel\n",
        "                    out_channel, # out_channel\n",
        "                    kernel_size=(char_emb_dim, filter_width), # (height, width)\n",
        "                    bias=True\n",
        "                    )\n",
        "            )\n",
        "\n",
        "        self.highway_input_dim = sum([x for x, y in self.filter_num_width])\n",
        "\n",
        "        self.batch_norm = nn.BatchNorm1d(self.highway_input_dim, affine=False)\n",
        "\n",
        "        # highway net\n",
        "        self.highway1 = Highway(self.highway_input_dim)\n",
        "        self.highway2 = Highway(self.highway_input_dim)\n",
        "\n",
        "        # LSTM\n",
        "        self.lstm_num_layers = 2\n",
        "\n",
        "        self.lstm = nn.LSTM(input_size=self.highway_input_dim, \n",
        "                            hidden_size=self.word_emb_dim, \n",
        "                            num_layers=self.lstm_num_layers,\n",
        "                            bias=True,\n",
        "                            dropout=0.5,\n",
        "                            batch_first=True)\n",
        "\n",
        "        # output layer\n",
        "        self.dropout = nn.Dropout(p=0.5)\n",
        "        self.linear = nn.Linear(self.word_emb_dim, self.vocab_size)\n",
        "\n",
        "        \n",
        "        if use_gpu is True:\n",
        "            for x in range(len(self.convolutions)):\n",
        "                self.convolutions[x] = self.convolutions[x].cuda()\n",
        "            self.highway1 = self.highway1.cuda()\n",
        "            self.highway2 = self.highway2.cuda()\n",
        "            self.lstm = self.lstm.cuda()\n",
        "            self.dropout = self.dropout.cuda()\n",
        "            self.char_embed = self.char_embed.cuda()\n",
        "            self.linear = self.linear.cuda()\n",
        "            self.batch_norm = self.batch_norm.cuda()\n",
        "\n",
        "\n",
        "    def forward(self, x, hidden):\n",
        "        # Input: Variable of Tensor with shape [num_seq, seq_len, max_word_len+2]\n",
        "        # Return: Variable of Tensor with shape [num_words, len(word_dict)]\n",
        "        batch_size = x.size()[0]\n",
        "        lstm_seq_len = x.size()[1]\n",
        "\n",
        "        x = x.contiguous().view(-1, x.size()[2])\n",
        "        # [num_seq*seq_len, max_word_len+2]\n",
        "        \n",
        "        x = self.char_embed(x)\n",
        "        # [num_seq*seq_len, max_word_len+2, char_emb_dim]\n",
        "        \n",
        "        x = torch.transpose(x.view(x.size()[0], 1, x.size()[1], -1), 2, 3)\n",
        "        # [num_seq*seq_len, 1, max_word_len+2, char_emb_dim]\n",
        "        \n",
        "        x = self.conv_layers(x)\n",
        "        # [num_seq*seq_len, total_num_filters]\n",
        "\n",
        "        x = self.batch_norm(x)\n",
        "        # [num_seq*seq_len, total_num_filters]\n",
        "\n",
        "        x = self.highway1(x)\n",
        "        x = self.highway2(x)\n",
        "        # [num_seq*seq_len, total_num_filters]\n",
        "\n",
        "        x = x.contiguous().view(batch_size,lstm_seq_len, -1)\n",
        "        # [num_seq, seq_len, total_num_filters]\n",
        "        \n",
        "        x, hidden = self.lstm(x, hidden)\n",
        "        # [seq_len, num_seq, hidden_size]\n",
        "        \n",
        "        x = self.dropout(x)\n",
        "        # [seq_len, num_seq, hidden_size]\n",
        "        \n",
        "        x = x.contiguous().view(batch_size*lstm_seq_len, -1)\n",
        "        # [num_seq*seq_len, hidden_size]\n",
        "\n",
        "        x = self.linear(x)\n",
        "        # [num_seq*seq_len, vocab_size]\n",
        "        return x, hidden\n",
        "\n",
        "\n",
        "    def conv_layers(self, x):\n",
        "        chosen_list = list()\n",
        "        for conv in self.convolutions:\n",
        "            feature_map = F.tanh(conv(x))\n",
        "            # (batch_size, out_channel, 1, max_word_len-width+1)\n",
        "            chosen = torch.max(feature_map, 3)[0]\n",
        "            # (batch_size, out_channel, 1)            \n",
        "            chosen = chosen.squeeze()\n",
        "            # (batch_size, out_channel)\n",
        "            chosen_list.append(chosen)\n",
        "        \n",
        "        # (batch_size, total_num_filers)\n",
        "        return torch.cat(chosen_list, 1)"
      ]
    },
    {
      "cell_type": "markdown",
      "source": [
        "## **Transformer model**"
      ],
      "metadata": {
        "id": "R7RcKHLS2hXx"
      }
    },
    {
      "cell_type": "code",
      "source": [
        "\n",
        "class PositionalEncoding(nn.Module):\n",
        "    def __init__(self, dim_model, dropout_p, max_len):\n",
        "        super().__init__()\n",
        "        # Modified version from: https://pytorch.org/tutorials/beginner/transformer_tutorial.html\n",
        "        # max_len determines how far the position can have an effect on a token (window)\n",
        "        \n",
        "        # Info\n",
        "        self.dropout = nn.Dropout(dropout_p)\n",
        "        \n",
        "        # Encoding - From formula\n",
        "        pos_encoding = torch.zeros(max_len, dim_model)\n",
        "        positions_list = torch.arange(0, max_len, dtype=torch.float).view(-1, 1) # 0, 1, 2, 3, 4, 5\n",
        "        division_term = torch.exp(torch.arange(0, dim_model, 2).float() * (-math.log(10000.0)) / dim_model) # 1000^(2i/dim_model)\n",
        "        \n",
        "        # PE(pos, 2i) = sin(pos/1000^(2i/dim_model))*\n",
        "        pos_encoding[:, 0::2] = torch.sin(positions_list * division_term)\n",
        "        \n",
        "        # PE(pos, 2i + 1) = cos(pos/1000^(2i/dim_model))\n",
        "        pos_encoding[:, 1::2] = torch.cos(positions_list * division_term)[:,:-1]\n",
        "        \n",
        "        # Saving buffer (same as parameter without gradients needed)\n",
        "        pos_encoding = pos_encoding.unsqueeze(0).transpose(0, 1)\n",
        "        self.register_buffer(\"pos_encoding\",pos_encoding)\n",
        "        \n",
        "    def forward(self, token_embedding: torch.tensor) -> torch.tensor:\n",
        "        # Residual connection + pos encoding\n",
        "        return self.dropout(token_embedding + self.pos_encoding[:token_embedding.size(0), :])\n"
      ],
      "metadata": {
        "id": "s1Xlmd5kiM7t"
      },
      "execution_count": null,
      "outputs": []
    },
    {
      "cell_type": "code",
      "source": [
        "class Transformer(nn.Module):\n",
        "    \"\"\"\n",
        "    Model from \"A detailed guide to Pytorch's nn.Transformer() module.\", by\n",
        "    Daniel Melchor: https://medium.com/@danielmelchor/a-detailed-guide-to-pytorchs-nn-transformer-module-c80afbc9ffb1\n",
        "    \"\"\"\n",
        "    # Constructor\n",
        "    def __init__(\n",
        "        self,\n",
        "        dim_model,\n",
        "        num_heads,\n",
        "        num_encoder_layers,\n",
        "        num_decoder_layers,\n",
        "        dropout_p,\n",
        "    ):\n",
        "        super().__init__()\n",
        "\n",
        "        # INFO\n",
        "        self.model_type = \"Transformer\"\n",
        "        self.dim_model = dim_model\n",
        "\n",
        "        # LAYERS\n",
        "        self.positional_encoder = PositionalEncoding(\n",
        "            dim_model=dim_model, dropout_p=dropout_p, max_len=5000\n",
        "        )\n",
        "        self.transformer = nn.Transformer(\n",
        "            d_model=dim_model,\n",
        "            nhead=num_heads,\n",
        "            num_encoder_layers=num_encoder_layers,\n",
        "            num_decoder_layers=num_decoder_layers,\n",
        "            dropout=dropout_p,\n",
        "            dim_feedforward=dim_model\n",
        "        )\n",
        "        \n",
        "    def forward(self, src, tgt, tgt_mask=None, src_pad_mask=None, tgt_pad_mask=None):\n",
        "        # Src size must be (batch_size, src sequence length)\n",
        "        # Tgt size must be (batch_size, tgt sequence length)\n",
        "\n",
        "        # Embedding + positional encoding - Out size = (batch_size, sequence length, dim_model)\n",
        "        src = self.positional_encoder(src)\n",
        "        tgt = self.positional_encoder(tgt)\n",
        "        \n",
        "        # We could use the parameter batch_first=True, but our KDL version doesn't support it yet, so we permute\n",
        "        # to obtain size (sequence length, batch_size, dim_model),\n",
        "        src = src.permute(1,0,2)\n",
        "        tgt = tgt.permute(1,0,2)\n",
        "\n",
        "        # Transformer blocks - Out size = (sequence length, batch_size, num_tokens)\n",
        "        transformer_out = self.transformer(src, tgt, tgt_mask=tgt_mask, src_key_padding_mask=src_pad_mask, tgt_key_padding_mask=tgt_pad_mask)\n",
        "        \n",
        "        return transformer_out\n",
        "      \n",
        "    def get_tgt_mask(self, size) -> torch.tensor:\n",
        "        # Generates a squeare matrix where the each row allows one word more to be seen\n",
        "        mask = torch.tril(torch.ones(size, size) == 1) # Lower triangular matrix\n",
        "        mask = mask.float()\n",
        "        mask = mask.masked_fill(mask == 0, float('-inf')) # Convert zeros to -inf\n",
        "        mask = mask.masked_fill(mask == 1, float(0.0)) # Convert ones to 0\n",
        "        \n",
        "        # EX for size=5:\n",
        "        # [[0., -inf, -inf, -inf, -inf],\n",
        "        #  [0.,   0., -inf, -inf, -inf],\n",
        "        #  [0.,   0.,   0., -inf, -inf],\n",
        "        #  [0.,   0.,   0.,   0., -inf],\n",
        "        #  [0.,   0.,   0.,   0.,   0.]]\n",
        "        \n",
        "        return mask\n",
        "    \n",
        "    def create_pad_mask(self, matrix: torch.tensor, pad_token: int) -> torch.tensor:\n",
        "        # If matrix = [1,2,3,0,0,0] where pad_token=0, the result mask is\n",
        "        # [False, False, False, True, True, True]\n",
        "        return (matrix == pad_token)\n"
      ],
      "metadata": {
        "id": "Wh7wARJn2jMF"
      },
      "execution_count": null,
      "outputs": []
    },
    {
      "cell_type": "markdown",
      "source": [
        "### CONV + TRANSFORMER MODEL"
      ],
      "metadata": {
        "id": "oP5jgmCpMuiG"
      }
    },
    {
      "cell_type": "code",
      "execution_count": null,
      "metadata": {
        "id": "xUyeeXeC-e42"
      },
      "outputs": [],
      "source": [
        "class charTransformer(nn.Module):\n",
        "    \"\"\"CNN + highway network + LSTM\n",
        "    # Input: \n",
        "        4D tensor with shape [batch_size, in_channel, height, width]\n",
        "    # Output:\n",
        "        2D Tensor with shape [batch_size, vocab_size]\n",
        "    # Arguments:\n",
        "        char_emb_dim: the size of each character's embedding\n",
        "        word_emb_dim: the size of each word's embedding\n",
        "        vocab_size: num of unique words\n",
        "        num_char: num of characters\n",
        "        use_gpu: True or False\n",
        "    \"\"\"\n",
        "    def __init__(self, char_emb_dim, word_emb_dim,  \n",
        "                vocab_size, num_char, use_gpu):\n",
        "        super(charTransformer, self).__init__()\n",
        "        self.char_emb_dim = char_emb_dim\n",
        "        self.word_emb_dim = word_emb_dim\n",
        "        self.vocab_size = vocab_size\n",
        "\n",
        "        # char embedding layer\n",
        "        self.char_embed = nn.Embedding(num_char, char_emb_dim)\n",
        "\n",
        "        # convolutions of filters with different sizes\n",
        "        self.convolutions = []\n",
        "\n",
        "        # list of tuples: (the number of filter, width)\n",
        "        self.filter_num_width = [(25, 1), (50, 2), (75, 3), (100, 4), (125, 5), (150, 6)]\n",
        "        \n",
        "        for out_channel, filter_width in self.filter_num_width:\n",
        "            self.convolutions.append(\n",
        "                nn.Conv2d(\n",
        "                    1,           # in_channel\n",
        "                    out_channel, # out_channel\n",
        "                    kernel_size=(char_emb_dim, filter_width), # (height, width)\n",
        "                    bias=True\n",
        "                    )\n",
        "            )\n",
        "\n",
        "        self.highway_input_dim = sum([x for x, y in self.filter_num_width])\n",
        "\n",
        "        self.batch_norm = nn.BatchNorm1d(self.highway_input_dim, affine=False)\n",
        "\n",
        "        # highway net\n",
        "        self.highway1 = Highway(self.highway_input_dim)\n",
        "        self.highway2 = Highway(self.highway_input_dim)\n",
        "\n",
        "        ########################################################################\n",
        "        ################### MODIFICATION HERE ##################################\n",
        "\n",
        "        # Transformer\n",
        "        self.transformer = Transformer(\n",
        "          dim_model=self.word_emb_dim, num_heads=3, num_encoder_layers=1, num_decoder_layers=1, dropout_p=0.5\n",
        "        )\n",
        "\n",
        "        # output layer\n",
        "        self.dropout = nn.Dropout(p=0.5)\n",
        "        self.linear = nn.Linear(self.word_emb_dim, self.vocab_size)\n",
        "\n",
        "        ########################################################################\n",
        "        ########################################################################\n",
        "\n",
        "        \n",
        "        if use_gpu is True:\n",
        "            for x in range(len(self.convolutions)):\n",
        "                self.convolutions[x] = self.convolutions[x].cuda()\n",
        "            self.highway1 = self.highway1.cuda()\n",
        "            self.highway2 = self.highway2.cuda()\n",
        "            self.transformer = self.transformer.cuda()\n",
        "            self.dropout = self.dropout.cuda()\n",
        "            self.char_embed = self.char_embed.cuda()\n",
        "            self.linear = self.linear.cuda()\n",
        "            self.batch_norm = self.batch_norm.cuda()\n",
        "            self.use_gpu = True\n",
        "        else:\n",
        "          self.use_gpu = False\n",
        "\n",
        "\n",
        "    def forward(self, x, y_input):\n",
        "\n",
        "\n",
        "        ########################################################################\n",
        "        ######### SHIFT Y_input BATCH RIGHT ####################################\n",
        "\n",
        "        '''\n",
        "        start_words = torch.full((y_input.shape[0], 1, y_input.shape[2]), num_char+1).cuda()\n",
        "        y_input     = torch.cat((start_words,y_input),dim=1)\n",
        "        y_input     = y_input[:,:-1]\n",
        "        '''\n",
        "\n",
        "        # Input: Variable of Tensor with shape [num_seq, seq_len, max_word_len+2]\n",
        "        # Return: Variable of Tensor with shape [num_words, len(word_dict)]\n",
        "        batch_size = x.size()[0]\n",
        "        seq_len = x.size()[1]\n",
        "        L = y_input.shape[1]\n",
        "        ########################################################################\n",
        "        ########################################################################\n",
        "        x = x.contiguous().view(-1, x.size()[2])\n",
        "        y_input = y_input.contiguous().view(-1, y_input.size()[2])       \n",
        "        # [num_seq*seq_len, max_word_len+2]\n",
        "        \n",
        "        x = self.char_embed(x)\n",
        "        y_input = self.char_embed(y_input)\n",
        "        # [num_seq*seq_len, max_word_len+2, char_emb_dim]\n",
        "        \n",
        "        x = torch.transpose(x.view(x.size()[0], 1, x.size()[1], -1), 2, 3)\n",
        "        y_input = torch.transpose(y_input.view(y_input.size()[0], 1, y_input.size()[1], -1), 2, 3)\n",
        "        # [num_seq*seq_len, 1, max_word_len+2, char_emb_dim]\n",
        "        \n",
        "        x = self.conv_layers(x)\n",
        "        y_input = self.conv_layers(y_input)\n",
        "        # [num_seq*seq_len, total_num_filters]\n",
        "\n",
        "        x = self.batch_norm(x)\n",
        "        y_input = self.batch_norm(y_input)\n",
        "        # [num_seq*seq_len, total_num_filters]\n",
        "\n",
        "        x = self.highway1(x)\n",
        "        x = self.highway2(x)\n",
        "        y_input = self.highway1(y_input)\n",
        "        y_input = self.highway2(y_input)\n",
        "        # [num_seq*seq_len, total_num_filters]\n",
        "\n",
        "        x = x.contiguous().view(batch_size,seq_len, -1)\n",
        "        y_input = y_input.contiguous().view(batch_size,L, -1)\n",
        "        # [num_seq, seq_len, total_num_filters]\n",
        "        \n",
        "        ########################################################################\n",
        "        ################### MODIFICATION HERE ##################################\n",
        "        tgt_mask = self.transformer.get_tgt_mask(y_input.shape[1])\n",
        "        out        = self.transformer(x, y_input, tgt_mask.cuda()) if self.use_gpu else self.transformer(x, y_input, tgt_mask)\n",
        "        out = out.permute(1,0,2)\n",
        "        # [num_seq, seq_len, total_num_filters]\n",
        "\n",
        "        ########################################################################\n",
        "        ########################################################################\n",
        "        \n",
        "        out = self.dropout(out)\n",
        "        # [seq_len, num_seq, total_num_filters]\n",
        "        \n",
        "        out = out.contiguous().view(batch_size*L, -1)\n",
        "        # [num_seq*seq_len, total_num_filters]\n",
        "\n",
        "        out = self.linear(out)\n",
        "        # [num_seq*seq_len, vocab_size]\n",
        "\n",
        "        return out\n",
        "\n",
        "\n",
        "    def conv_layers(self, x):\n",
        "        chosen_list = list()\n",
        "        for conv in self.convolutions:\n",
        "            feature_map = F.tanh(conv(x))\n",
        "            # (batch_size, out_channel, 1, max_word_len-width+1)\n",
        "            chosen = torch.max(feature_map, 3)[0]\n",
        "            # (batch_size, out_channel, 1)            \n",
        "            chosen = chosen.squeeze()\n",
        "            # (batch_size, out_channel)\n",
        "            chosen_list.append(chosen)\n",
        "        \n",
        "        # (batch_size, total_num_filers)\n",
        "        return torch.cat(chosen_list, 1)"
      ]
    },
    {
      "cell_type": "markdown",
      "metadata": {
        "id": "O2PTzcw3xYwl"
      },
      "source": [
        "# **MAIN**"
      ]
    },
    {
      "cell_type": "markdown",
      "source": [
        "## Hyperparameters"
      ],
      "metadata": {
        "id": "0mwHhn0zym7N"
      }
    },
    {
      "cell_type": "code",
      "source": [
        "architecture = \"LSTM\"    # LSTM | transformer\n",
        "corpus       = \"Brown\"   # Brown | ...\n",
        "\n",
        "#######################\n",
        "\n",
        "word_embed_dim     = 525\n",
        "char_embedding_dim = 32\n",
        "USE_GPU            = True\n",
        "seq_len       = 64\n",
        "batch_size    = 16\n",
        "\n",
        "init_lr = 1e-4\n",
        "epochs = 20"
      ],
      "metadata": {
        "id": "3Veco3CPyL_L"
      },
      "execution_count": null,
      "outputs": []
    },
    {
      "cell_type": "markdown",
      "source": [
        "## Training"
      ],
      "metadata": {
        "id": "DsERDNpIyo5T"
      }
    },
    {
      "cell_type": "markdown",
      "source": [
        "* La phrase source doit comporter de l'info du batch precedent, comme entrainement LSTM \n",
        "\n",
        "* Deux choix : concat tout les inputs precedent ou juste prendre le precedent\n",
        "\n",
        "* Maintenant, comme pour LSTM, on predit les lettres suivantes "
      ],
      "metadata": {
        "id": "jEFyGN-m-pMK"
      }
    },
    {
      "cell_type": "markdown",
      "source": [
        "### 1) data prep"
      ],
      "metadata": {
        "id": "j6fZe4Bdtn6Q"
      }
    },
    {
      "cell_type": "code",
      "source": [
        "if corpus == \"Brown\":\n",
        "    init_brown()\n",
        "\n",
        "if architecture == \"LSTM\":\n",
        "    model_archi = charLM\n",
        "else:\n",
        "    model_archi = charTransformer\n",
        "\n",
        "model_name = architecture+\"_\"+corpus+\"_model\"\n",
        "\n",
        "if not os.path.exists(path+\"results.pt\"):\n",
        "    results = {}\n",
        "    results[model_name] = {\"validation\":{\"loss\":[],\"PPL\":[]},\"training\":{\"loss\":[],\"PPL\":[]}}\n",
        "else:\n",
        "    results = torch.load(path+\"results.pt\")\n",
        "\n",
        "if os.path.exists(path+\"cache/prep_\"+corpus+\".pt\") is False:\n",
        "      preprocess()\n",
        "\n",
        "objetcs = torch.load(path+\"cache/prep_\"+corpus+\".pt\")\n",
        "word_dict         = objetcs[\"word_dict\"]\n",
        "char_dict         = objetcs[\"char_dict\"]\n",
        "reverse_word_dict = objetcs[\"reverse_word_dict\"]\n",
        "max_word_len      = objetcs[\"max_word_len\"]\n",
        "num_words         = len(word_dict)\n",
        "\n",
        "print(\"word/char dictionary built. Start making inputs.\")\n",
        "\n",
        "if os.path.exists(path+\"cache/data_sets_\"+corpus+\".pt\") is False:\n",
        "    dataset_prep()\n",
        "\n",
        "data_sets = torch.load(path+\"cache/data_sets_\"+corpus+\".pt\")\n",
        "train_set = data_sets[\"tdata\"]\n",
        "valid_set = data_sets[\"vdata\"]\n",
        "test_set  = data_sets[\"test\"]\n",
        "train_label = data_sets[\"trlabel\"]\n",
        "valid_label = data_sets[\"vlabel\"]\n",
        "test_label = data_sets[\"tlabel\"]\n",
        "\n",
        "DataTuple = namedtuple(\"DataTuple\", \n",
        "            \"train_input train_label valid_input valid_label test_input test_label\")\n",
        "data = DataTuple(train_input=train_set,\n",
        "                  train_label=train_label,\n",
        "                  valid_input=valid_set,\n",
        "                  valid_label=valid_label,\n",
        "                  test_input=test_set,\n",
        "                  test_label=test_label)\n",
        "\n",
        "print(\"Loaded data sets. Start building network.\")"
      ],
      "metadata": {
        "colab": {
          "base_uri": "https://localhost:8080/"
        },
        "id": "-QszlK741QPs",
        "outputId": "63c5e0df-327d-4579-b57b-d416393ce9c4"
      },
      "execution_count": null,
      "outputs": [
        {
          "output_type": "stream",
          "name": "stdout",
          "text": [
            "[nltk_data] Downloading package brown to /root/nltk_data...\n",
            "[nltk_data]   Package brown is already up-to-date!\n",
            "word/char dictionary built. Start making inputs.\n",
            "Loaded data sets. Start building network.\n"
          ]
        }
      ]
    },
    {
      "cell_type": "markdown",
      "source": [
        "### 2) net"
      ],
      "metadata": {
        "id": "KNFQojCatqZm"
      }
    },
    {
      "cell_type": "code",
      "execution_count": null,
      "metadata": {
        "id": "YgnKaIfSxYc7",
        "colab": {
          "base_uri": "https://localhost:8080/"
        },
        "outputId": "5487aee0-2a14-4e12-c4c8-f3af9b7fde4f"
      },
      "outputs": [
        {
          "output_type": "stream",
          "name": "stdout",
          "text": [
            "Network built. Start training.\n"
          ]
        },
        {
          "output_type": "stream",
          "name": "stderr",
          "text": [
            "/usr/local/lib/python3.7/dist-packages/ipykernel_launcher.py:8: UserWarning: nn.init.uniform is now deprecated in favor of nn.init.uniform_.\n",
            "  \n"
          ]
        }
      ],
      "source": [
        "net = model_archi(char_embedding_dim, \n",
        "            word_embed_dim, \n",
        "            num_words,\n",
        "            len(char_dict),\n",
        "            use_gpu=USE_GPU)\n",
        "\n",
        "for param in net.parameters():\n",
        "    nn.init.uniform(param.data, -0.05, 0.05)\n",
        "\n",
        "Options = namedtuple(\"Options\", [\n",
        "        \"init_lr\", \"seq_len\",\n",
        "        \"max_word_len\", \"batch_size\", \"epochs\",\n",
        "        \"word_embed_dim\"])\n",
        "opt = Options(init_lr=init_lr,\n",
        "              seq_len=seq_len,\n",
        "              max_word_len=max_word_len,\n",
        "              batch_size=batch_size,\n",
        "              epochs=epochs,\n",
        "              word_embed_dim=word_embed_dim)\n",
        "\n",
        "print(\"Network built. Start training.\")"
      ]
    },
    {
      "cell_type": "markdown",
      "source": [
        "### 3) train"
      ],
      "metadata": {
        "id": "rN3pY1gQt-Np"
      }
    },
    {
      "cell_type": "code",
      "source": [
        "if (\"transformer\" in model_name):\n",
        "    train_Transformer(net, data, opt, model_name)\n",
        "else:\n",
        "    train_LSTM(net, data, opt, model_name)\n",
        "torch.save(results,path+\"results.pt\")\n",
        "torch.save(net, path+\"cache/\"+model_name+\"_net.pkl\")\n",
        "print(\"saved net\")"
      ],
      "metadata": {
        "colab": {
          "base_uri": "https://localhost:8080/"
        },
        "id": "kQ8lxXsFt_s8",
        "outputId": "d2d4362b-0b72-440a-fb88-109a26ba00f9"
      },
      "execution_count": null,
      "outputs": [
        {
          "output_type": "stream",
          "name": "stderr",
          "text": [
            "/usr/local/lib/python3.7/dist-packages/torch/nn/functional.py:1933: UserWarning: nn.functional.tanh is deprecated. Use torch.tanh instead.\n",
            "  warnings.warn(\"nn.functional.tanh is deprecated. Use torch.tanh instead.\")\n",
            "/usr/local/lib/python3.7/dist-packages/torch/nn/functional.py:1944: UserWarning: nn.functional.sigmoid is deprecated. Use torch.sigmoid instead.\n",
            "  warnings.warn(\"nn.functional.sigmoid is deprecated. Use torch.sigmoid instead.\")\n"
          ]
        },
        {
          "output_type": "stream",
          "name": "stdout",
          "text": [
            "[epoch 0] valid PPL=50249.74536780974\n",
            "valid loss=10.824759398941445\n",
            "PPL decrease=49750.25463219026\n",
            "0/226\n"
          ]
        },
        {
          "output_type": "stream",
          "name": "stderr",
          "text": [
            "/usr/local/lib/python3.7/dist-packages/ipykernel_launcher.py:134: UserWarning: torch.nn.utils.clip_grad_norm is now deprecated in favor of torch.nn.utils.clip_grad_norm_.\n"
          ]
        },
        {
          "output_type": "stream",
          "name": "stdout",
          "text": [
            "100/226\n",
            "200/226\n",
            "Train loss : 7.695529460906982\n",
            "Train PPL : 6366.12939453125\n",
            "[epoch 1] valid PPL=883.6718053226978\n",
            "valid loss=6.746518080213429\n",
            "PPL decrease=49366.07356248704\n",
            "0/226\n",
            "100/226\n",
            "200/226\n",
            "Train loss : 6.793012619018555\n",
            "Train PPL : 934.9397583007812\n",
            "[epoch 2] valid PPL=785.6537278436981\n",
            "valid loss=6.6164319409733325\n",
            "PPL decrease=98.01807747899966\n",
            "0/226\n",
            "100/226\n",
            "200/226\n",
            "Train loss : 6.60603666305542\n",
            "Train PPL : 771.5374145507812\n",
            "[epoch 3] valid PPL=736.6774761908878\n",
            "valid loss=6.54267473558409\n",
            "PPL decrease=48.97625165281033\n",
            "0/226\n",
            "100/226\n",
            "200/226\n",
            "Train loss : 6.478686332702637\n",
            "Train PPL : 680.6614990234375\n",
            "[epoch 4] valid PPL=678.1615292709486\n",
            "valid loss=6.453744373490325\n",
            "PPL decrease=58.51594691993921\n",
            "0/226\n",
            "100/226\n",
            "200/226\n",
            "Train loss : 6.359755039215088\n",
            "Train PPL : 605.2531127929688\n",
            "[epoch 5] valid PPL=620.3346492801093\n",
            "valid loss=6.361631587543319\n",
            "PPL decrease=57.8268799908393\n",
            "0/226\n",
            "100/226\n",
            "200/226\n",
            "Train loss : 6.267028331756592\n",
            "Train PPL : 552.58349609375\n",
            "[epoch 6] valid PPL=577.6461045256758\n",
            "valid loss=6.288099137027706\n",
            "PPL decrease=42.68854475443345\n",
            "0/226\n",
            "100/226\n",
            "200/226\n",
            "Train loss : 6.19574499130249\n",
            "Train PPL : 515.0702514648438\n",
            "[epoch 7] valid PPL=549.5057294727427\n",
            "valid loss=6.234712334860743\n",
            "PPL decrease=28.14037505293311\n",
            "0/226\n",
            "100/226\n",
            "200/226\n",
            "Train loss : 6.136373519897461\n",
            "Train PPL : 485.6150817871094\n",
            "[epoch 8] valid PPL=526.5281896000415\n",
            "valid loss=6.1892216184497935\n",
            "PPL decrease=22.977539872701186\n",
            "0/226\n",
            "100/226\n",
            "200/226\n",
            "Train loss : 6.086564064025879\n",
            "Train PPL : 462.39910888671875\n",
            "[epoch 9] valid PPL=506.39752899439986\n",
            "valid loss=6.148327776816039\n",
            "PPL decrease=20.13066060564165\n",
            "0/226\n",
            "100/226\n",
            "200/226\n",
            "Train loss : 6.049370765686035\n",
            "Train PPL : 445.8936462402344\n",
            "[epoch 10] valid PPL=492.9719516450325\n",
            "valid loss=6.118809345549187\n",
            "PPL decrease=13.425577349367359\n",
            "0/226\n",
            "100/226\n",
            "200/226\n",
            "Train loss : 6.011223793029785\n",
            "Train PPL : 429.9762268066406\n",
            "[epoch 11] valid PPL=479.88640547220683\n",
            "valid loss=6.090034915282663\n",
            "PPL decrease=13.085546172825673\n",
            "0/226\n",
            "100/226\n",
            "200/226\n",
            "Train loss : 5.976617813110352\n",
            "Train PPL : 415.9668884277344\n",
            "[epoch 12] valid PPL=467.7222759955752\n",
            "valid loss=6.063768775062224\n",
            "PPL decrease=12.164129476631615\n",
            "0/226\n",
            "100/226\n",
            "200/226\n",
            "Train loss : 5.952829360961914\n",
            "Train PPL : 406.2088928222656\n",
            "[epoch 13] valid PPL=459.6606172544766\n",
            "valid loss=6.043858380444282\n",
            "PPL decrease=8.061658741098597\n",
            "0/226\n",
            "100/226\n",
            "200/226\n",
            "Train loss : 5.924909591674805\n",
            "Train PPL : 395.20257568359375\n",
            "[epoch 14] valid PPL=452.0546810183905\n",
            "valid loss=6.025544542126951\n",
            "PPL decrease=7.605936236086109\n",
            "0/226\n",
            "100/226\n",
            "200/226\n",
            "Train loss : 5.90321683883667\n",
            "Train PPL : 386.77215576171875\n",
            "[epoch 15] valid PPL=444.75190964420284\n",
            "valid loss=6.008672558100877\n",
            "PPL decrease=7.302771374187671\n",
            "0/226\n",
            "100/226\n",
            "200/226\n",
            "Train loss : 5.881782054901123\n",
            "Train PPL : 378.6561584472656\n",
            "[epoch 16] valid PPL=439.8308479511632\n",
            "valid loss=5.9953293758156025\n",
            "PPL decrease=4.921061693039633\n",
            "0/226\n",
            "100/226\n",
            "200/226\n",
            "Train loss : 5.86019229888916\n",
            "Train PPL : 370.49652099609375\n",
            "[epoch 17] valid PPL=435.01242956651\n",
            "valid loss=5.9839362718362725\n",
            "PPL decrease=4.818418384653228\n",
            "0/226\n",
            "100/226\n",
            "200/226\n",
            "Train loss : 5.842715740203857\n",
            "Train PPL : 364.5418395996094\n",
            "[epoch 18] valid PPL=430.0645575059199\n",
            "valid loss=5.971357560790746\n",
            "PPL decrease=4.9478720605901\n",
            "0/226\n",
            "100/226\n",
            "200/226\n",
            "Train loss : 5.820809364318848\n",
            "Train PPL : 356.5361022949219\n",
            "[epoch 19] valid PPL=426.37596873055514\n",
            "valid loss=5.961422865369679\n",
            "PPL decrease=3.6885887753647353\n",
            "0/226\n",
            "100/226\n",
            "200/226\n",
            "Train loss : 5.8041090965271\n",
            "Train PPL : 350.472900390625\n",
            "Training finished.\n",
            "saved net\n"
          ]
        }
      ]
    },
    {
      "cell_type": "markdown",
      "source": [
        "### 4) test"
      ],
      "metadata": {
        "id": "B-oJVofEu5UM"
      }
    },
    {
      "cell_type": "code",
      "source": [
        "if (\"transformer\" in model_name):\n",
        "    test_Transformer(net, data, opt, model_name)\n",
        "else:\n",
        "    test_LSTM(net, data, opt, model_name)"
      ],
      "metadata": {
        "id": "82W-QCFd3ML5",
        "colab": {
          "base_uri": "https://localhost:8080/"
        },
        "outputId": "0bc98ffa-28b2-4696-9f74-c83273b43f05"
      },
      "execution_count": null,
      "outputs": [
        {
          "output_type": "stream",
          "name": "stderr",
          "text": [
            "/usr/local/lib/python3.7/dist-packages/torch/nn/functional.py:1933: UserWarning: nn.functional.tanh is deprecated. Use torch.tanh instead.\n",
            "  warnings.warn(\"nn.functional.tanh is deprecated. Use torch.tanh instead.\")\n",
            "/usr/local/lib/python3.7/dist-packages/torch/nn/functional.py:1944: UserWarning: nn.functional.sigmoid is deprecated. Use torch.sigmoid instead.\n",
            "  warnings.warn(\"nn.functional.sigmoid is deprecated. Use torch.sigmoid instead.\")\n"
          ]
        },
        {
          "output_type": "stream",
          "name": "stdout",
          "text": [
            "Test Loss=6.8604\n",
            "Test PPL=953.7209\n"
          ]
        }
      ]
    },
    {
      "cell_type": "markdown",
      "source": [
        "## **Evaluation**"
      ],
      "metadata": {
        "id": "ij2HPzsEzE4u"
      }
    },
    {
      "cell_type": "markdown",
      "source": [
        "### Training Graphs"
      ],
      "metadata": {
        "id": "Fn1cFslEz2Q4"
      }
    },
    {
      "cell_type": "code",
      "source": [
        "val_loss, val_ppl = results[model_name][\"validation\"][\"loss\"], results[model_name][\"validation\"][\"PPL\"]\n",
        "N = len(val_loss)"
      ],
      "metadata": {
        "id": "47kIBjghz8QN"
      },
      "execution_count": null,
      "outputs": []
    },
    {
      "cell_type": "code",
      "source": [
        "plt.figure(figsize=(10,10))\n",
        "\n",
        "plt.plot(range(N),val_loss,label=\"Validation\",color=\"green\")\n",
        "plt.plot(range(N),val_loss,label=\"Training\",color=\"blue\")\n",
        "\n",
        "plt.xlabel(\"Epoch\",fontsize=18)\n",
        "plt.ylabel(\"Loss\",fontsize=18)\n",
        "plt.title(\"Character-aware \"+architecture+\" model on the \"+corpus+\" Corpus\",fontsize=18)\n",
        "plt.legend()\n",
        "plt.show()"
      ],
      "metadata": {
        "id": "vjkfQc9C0GDR",
        "colab": {
          "base_uri": "https://localhost:8080/",
          "height": 634
        },
        "outputId": "c95df1ad-70bc-4962-bf18-c37bffe0df48"
      },
      "execution_count": null,
      "outputs": [
        {
          "output_type": "display_data",
          "data": {
            "text/plain": [
              "<Figure size 720x720 with 1 Axes>"
            ],
            "image/png": "[encoded data removed]"
          },
          "metadata": {
            "needs_background": "light"
          }
        }
      ]
    }
  ],
  "metadata": {
    "accelerator": "GPU",
    "colab": {
      "collapsed_sections": [
        "j6fZe4Bdtn6Q",
        "KNFQojCatqZm"
      ],
      "name": "NLP-PROJECT_run_LSTM.ipynb",
      "toc_visible": true,
      "provenance": []
    },
    "kernelspec": {
      "display_name": "Python 3",
      "name": "python3"
    },
    "language_info": {
      "name": "python"
    }
  },
  "nbformat": 4,
  "nbformat_minor": 0
}